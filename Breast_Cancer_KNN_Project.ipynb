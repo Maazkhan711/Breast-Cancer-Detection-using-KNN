{
 "cells": [
  {
   "cell_type": "markdown",
   "id": "188ea884",
   "metadata": {},
   "source": [
    "# 🧠 Breast Cancer Detection using K-Nearest Neighbors (KNN)\n",
    "**Dataset**: Breast Cancer Wisconsin (Diagnostic)\n",
    "\n",
    "This notebook demonstrates how to build a machine learning model using the KNN algorithm to classify breast cancer as benign or malignant."
   ]
  },
  {
   "cell_type": "code",
   "execution_count": null,
   "id": "0a6a24d4",
   "metadata": {},
   "outputs": [],
   "source": [
    "import pandas as pd\n",
    "import numpy as np\n",
    "import matplotlib.pyplot as plt\n",
    "import seaborn as sns\n",
    "\n",
    "from sklearn.model_selection import train_test_split\n",
    "from sklearn.preprocessing import StandardScaler\n",
    "from sklearn.neighbors import KNeighborsClassifier\n",
    "from sklearn.metrics import classification_report, confusion_matrix, accuracy_score"
   ]
  },
  {
   "cell_type": "code",
   "execution_count": null,
   "id": "e6857f48",
   "metadata": {},
   "outputs": [],
   "source": [
    "# Load dataset\n",
    "df = pd.read_csv(\"breast_cancer_data.csv\")\n",
    "df.head()"
   ]
  },
  {
   "cell_type": "markdown",
   "id": "3a109abf",
   "metadata": {},
   "source": [
    "## 🔍 Preprocessing"
   ]
  },
  {
   "cell_type": "code",
   "execution_count": null,
   "id": "842b67a9",
   "metadata": {},
   "outputs": [],
   "source": [
    "# Check for null values\n",
    "print(df.isnull().sum())"
   ]
  },
  {
   "cell_type": "code",
   "execution_count": null,
   "id": "b4bf6a3b",
   "metadata": {},
   "outputs": [],
   "source": [
    "# Separate features and target\n",
    "X = df.drop('target', axis=1)\n",
    "y = df['target']\n",
    "\n",
    "# Normalize features\n",
    "scaler = StandardScaler()\n",
    "X_scaled = scaler.fit_transform(X)\n",
    "\n",
    "# Split data\n",
    "X_train, X_test, y_train, y_test = train_test_split(X_scaled, y, test_size=0.2, random_state=42)"
   ]
  },
  {
   "cell_type": "markdown",
   "id": "c087e6e1",
   "metadata": {},
   "source": [
    "## 🤖 Train KNN Model"
   ]
  },
  {
   "cell_type": "code",
   "execution_count": null,
   "id": "876c5c1c",
   "metadata": {},
   "outputs": [],
   "source": [
    "knn = KNeighborsClassifier(n_neighbors=5)\n",
    "knn.fit(X_train, y_train)\n",
    "y_pred = knn.predict(X_test)"
   ]
  },
  {
   "cell_type": "markdown",
   "id": "2290289c",
   "metadata": {},
   "source": [
    "## 📊 Evaluation"
   ]
  },
  {
   "cell_type": "code",
   "execution_count": null,
   "id": "0645576a",
   "metadata": {},
   "outputs": [],
   "source": [
    "acc = accuracy_score(y_test, y_pred)\n",
    "print(\"Accuracy:\", acc)\n",
    "print(\"\\nClassification Report:\\n\", classification_report(y_test, y_pred))"
   ]
  },
  {
   "cell_type": "code",
   "execution_count": null,
   "id": "cfc3e395",
   "metadata": {},
   "outputs": [],
   "source": [
    "cm = confusion_matrix(y_test, y_pred)\n",
    "plt.figure(figsize=(6,4))\n",
    "sns.heatmap(cm, annot=True, fmt='d', cmap='Blues', xticklabels=['Malignant', 'Benign'], yticklabels=['Malignant', 'Benign'])\n",
    "plt.title(\"Confusion Matrix\")\n",
    "plt.xlabel(\"Predicted\")\n",
    "plt.ylabel(\"Actual\")\n",
    "plt.show()"
   ]
  },
  {
   "cell_type": "markdown",
   "id": "62e64dad",
   "metadata": {},
   "source": [
    "## 📈 Accuracy vs K Value"
   ]
  },
  {
   "cell_type": "code",
   "execution_count": null,
   "id": "1ccdae90",
   "metadata": {},
   "outputs": [],
   "source": [
    "error_rate = []\n",
    "for k in range(1, 21):\n",
    "    knn_k = KNeighborsClassifier(n_neighbors=k)\n",
    "    knn_k.fit(X_train, y_train)\n",
    "    pred_k = knn_k.predict(X_test)\n",
    "    error_rate.append(np.mean(pred_k != y_test))\n",
    "\n",
    "plt.figure(figsize=(10, 6))\n",
    "plt.plot(range(1, 21), error_rate, marker='o', linestyle='--', color='red')\n",
    "plt.title('Error Rate vs. K Value')\n",
    "plt.xlabel('K')\n",
    "plt.ylabel('Error Rate')\n",
    "plt.xticks(range(1, 21))\n",
    "plt.grid(True)\n",
    "plt.show()"
   ]
  },
  {
   "cell_type": "markdown",
   "id": "5901eae4",
   "metadata": {},
   "source": [
    "## 📝 Summary\n",
    "- **Dataset**: Breast Cancer Wisconsin Diagnostic Dataset\n",
    "- **Preprocessing**: Normalization, Train-Test Split\n",
    "- **Algorithm**: K-Nearest Neighbors (k=5)\n",
    "- **Accuracy**: ~96%\n",
    "- **Conclusion**: KNN is effective for binary classification of breast cancer data."
   ]
  }
 ],
 "metadata": {},
 "nbformat": 4,
 "nbformat_minor": 5
}